{
  "cells": [
    {
      "cell_type": "markdown",
      "metadata": {
        "id": "view-in-github",
        "colab_type": "text"
      },
      "source": [
        "<a href=\"https://colab.research.google.com/github/westnowise/ApacheSpark_1/blob/main/%EB%B9%85%EB%8D%B0%EC%9D%B4%ED%84%B06%EA%B8%B0_%EC%A1%B0%EC%84%9C%ED%98%84_DE%EA%B3%BC%EC%A0%9C.ipynb\" target=\"_parent\"><img src=\"https://colab.research.google.com/assets/colab-badge.svg\" alt=\"Open In Colab\"/></a>"
      ]
    },
    {
      "cell_type": "markdown",
      "metadata": {
        "id": "yIUWr1LmWTJ3"
      },
      "source": [
        "## Dataset 다섯개 활용한 실습 과제\n",
        "    - member.csv\n",
        "    - point_his.csv\n",
        "    - item_his.csv\n",
        "    - study_his.csv\n",
        "    - regdate_his.csv\n",
        "\n"
      ]
    },
    {
      "cell_type": "markdown",
      "metadata": {
        "id": "0XIhTVVLW6iN"
      },
      "source": [
        "### 환경 설정 및 세션"
      ]
    },
    {
      "cell_type": "code",
      "execution_count": null,
      "metadata": {
        "id": "TRydIlF1WX4t",
        "colab": {
          "base_uri": "https://localhost:8080/"
        },
        "outputId": "1837760e-64e3-4385-e2e7-a8e115ce3789"
      },
      "outputs": [
        {
          "output_type": "stream",
          "name": "stdout",
          "text": [
            "Requirement already satisfied: pyspark in /usr/local/lib/python3.10/dist-packages (3.5.1)\n",
            "Requirement already satisfied: py4j==0.10.9.7 in /usr/local/lib/python3.10/dist-packages (from pyspark) (0.10.9.7)\n"
          ]
        }
      ],
      "source": [
        "!pip3 install pyspark"
      ]
    },
    {
      "cell_type": "code",
      "execution_count": null,
      "metadata": {
        "id": "280mv3UwWcym"
      },
      "outputs": [],
      "source": [
        "from pyspark.sql import SparkSession, Row\n",
        "from pyspark.sql import types as T\n",
        "from pyspark.sql import window as W\n",
        "from pyspark.sql import functions as F\n",
        "\n",
        "spark = SparkSession.builder \\\n",
        "        .master(\"local\") \\\n",
        "        .appName(\"Colab\") \\\n",
        "        .getOrCreate()"
      ]
    },
    {
      "cell_type": "markdown",
      "metadata": {
        "id": "uwnS-SP5XAe-"
      },
      "source": [
        "### 데이터 읽기"
      ]
    },
    {
      "cell_type": "code",
      "execution_count": null,
      "metadata": {
        "id": "cARDdDvUWc3d"
      },
      "outputs": [],
      "source": [
        "member = spark.read.csv(\"/content/member.csv\", header =True)\n",
        "point = spark.read.csv(\"/content/point_his.csv\", header =True)\n",
        "item = spark.read.csv(\"/content/item_his.csv\", header =True)\n",
        "study = spark.read.csv(\"/content/study_his.csv\", header =True)\n",
        "regdate = spark.read.csv(\"/content/regdate_his.csv\", header =True)"
      ]
    },
    {
      "cell_type": "markdown",
      "source": [
        "1. member 테이블에서 idx가 8000과 9000 사이인 row를 찾아주세요.(양 끝값 포함) (6)"
      ],
      "metadata": {
        "id": "86gPvQO7uVYg"
      }
    },
    {
      "cell_type": "code",
      "execution_count": null,
      "metadata": {
        "colab": {
          "base_uri": "https://localhost:8080/"
        },
        "id": "OHPZpEtoWc51",
        "outputId": "feecd32a-dc84-4af3-ba18-84950ec615dc"
      },
      "outputs": [
        {
          "output_type": "stream",
          "name": "stdout",
          "text": [
            "+----+---+--------+-------+\n",
            "| idx|sex|  status|  grade|\n",
            "+----+---+--------+-------+\n",
            "|8647| 남|유료회원|초4학년|\n",
            "|8698| 남|유료회원|초2학년|\n",
            "|8222| 남|유료회원|초4학년|\n",
            "|8178| 남|유료회원|초1학년|\n",
            "|8678| 남|유료회원|초4학년|\n",
            "|8285| 여|유료회원|초4학년|\n",
            "|8354| 남|유료회원|초3학년|\n",
            "|8530| 여|유료회원|초3학년|\n",
            "|8709| 남|유료회원|초1학년|\n",
            "|8507| 남|유료회원|초2학년|\n",
            "|8573| 남|유료회원|초3학년|\n",
            "|8772| 남|유료회원|초3학년|\n",
            "|8559| 남|유료회원|초3학년|\n",
            "|8870| 여|유료회원|초5학년|\n",
            "|8919| 여|유료회원|초4학년|\n",
            "|8927| 여|유료회원|초3학년|\n",
            "|8904| 여|유료회원|초5학년|\n",
            "|8945| 여|유료회원|초6학년|\n",
            "|8381| 여|유료회원|초4학년|\n",
            "|8084| 여|유료회원|초6학년|\n",
            "+----+---+--------+-------+\n",
            "only showing top 20 rows\n",
            "\n"
          ]
        }
      ],
      "source": [
        "# member.distinct() 중복 없기 때문에 중복 제거 없이 진행\n",
        "member.filter(F.col('idx').between(8000, 9000)).show()"
      ]
    },
    {
      "cell_type": "markdown",
      "source": [
        "2. member 테이블에서 회원 상태별 인원수를 내림차순으로 보여주세요. (6)"
      ],
      "metadata": {
        "id": "ASE3wQrlt5xQ"
      }
    },
    {
      "cell_type": "code",
      "execution_count": null,
      "metadata": {
        "colab": {
          "base_uri": "https://localhost:8080/"
        },
        "id": "_9ZVEXSEWc8N",
        "outputId": "0f745b70-0ce6-47c3-b4f6-a3aa9812cf1d"
      },
      "outputs": [
        {
          "output_type": "stream",
          "name": "stdout",
          "text": [
            "+--------+-----+\n",
            "|  status|count|\n",
            "+--------+-----+\n",
            "|유료회원|97980|\n",
            "|학습만료|  383|\n",
            "|  재구매|  357|\n",
            "|    신규|  261|\n",
            "|    이월|   57|\n",
            "|    복회|   17|\n",
            "|이관유료|   15|\n",
            "|    취소|   10|\n",
            "+--------+-----+\n",
            "\n"
          ]
        }
      ],
      "source": [
        "# member 테이블에서 distinct count 시 중복이 없기 때문에 중복 제거 없이 진행\n",
        "member.groupby('status').count().orderBy(F.desc('count')).show()"
      ]
    },
    {
      "cell_type": "markdown",
      "source": [
        "3. 학습만료 회원들이 공부한 과목 리스트를 TOP3를 뽑아주세요 (8)"
      ],
      "metadata": {
        "id": "8-swQsRwt9tH"
      }
    },
    {
      "cell_type": "code",
      "execution_count": null,
      "metadata": {
        "colab": {
          "base_uri": "https://localhost:8080/"
        },
        "id": "oQRmpT5AYUng",
        "outputId": "3b7e3712-6c52-4f32-97d6-5dd15fd49a8c"
      },
      "outputs": [
        {
          "output_type": "stream",
          "name": "stdout",
          "text": [
            "+----------------+-----+\n",
            "|         pointnm|count|\n",
            "+----------------+-----+\n",
            "|  AI 구구단 게임|   45|\n",
            "|    AI서술형평가|   43|\n",
            "|밀크T 지오그래픽|   21|\n",
            "+----------------+-----+\n",
            "\n"
          ]
        }
      ],
      "source": [
        "# 학습 만료 회원 필터링\n",
        "member_status_end = member.filter(F.col('status') == '학습만료') # count() : 383\n",
        "\n",
        "# 학습 만료 회원들이 공부한 과목 join 후 중복 제거\n",
        "# 학습 만료 회원들의 과목에 중점을 둔 중복 제거 (시기가 다른 경우도 포함하여 제거)\n",
        "join_study = member_status_end.join(study, [\"idx\"], \"inner\") # distinct() 시 count() : 365\n",
        "join_study = join_study.dropDuplicates(subset = ['idx', 'pointnm']) # count() : 152\n",
        "\n",
        "# 상위 3개 과목 선택\n",
        "top3_subjects =join_study.groupBy(F.col('pointnm')).count() \\\n",
        "                    .orderBy(F.desc(\"count\")) \\\n",
        "                    .limit(3)\n",
        "\n",
        "# 결과 출력\n",
        "top3_subjects.show()"
      ]
    },
    {
      "cell_type": "markdown",
      "source": [
        "4. 등록일(reg_date)이 2023.03.15일인 유료회원들이 가장 많이 착용한 아이템(codename) TOP3를 뽑아주세요 (8)"
      ],
      "metadata": {
        "id": "J8QizR0puoWo"
      }
    },
    {
      "cell_type": "code",
      "execution_count": null,
      "metadata": {
        "colab": {
          "base_uri": "https://localhost:8080/"
        },
        "id": "6BhH4EFYcj24",
        "outputId": "9af5e9fc-7c92-4d24-af83-996dad57bf6f"
      },
      "outputs": [
        {
          "output_type": "stream",
          "name": "stdout",
          "text": [
            "+----------+-----+\n",
            "|  codename|count|\n",
            "+----------+-----+\n",
            "|      헤어|   47|\n",
            "|      신발|   40|\n",
            "|상태메시지|   38|\n",
            "+----------+-----+\n",
            "\n"
          ]
        }
      ],
      "source": [
        "# 등록일과 유료회원 필터링\n",
        "regdate1 = regdate.filter(F.col('regdate') == '20230315') # 등록일 23.03.15, count() : 218\n",
        "member1 = member.filter(F.col('status') == '유료회원') # status 유료회원, count() : 97980\n",
        "\n",
        "# 필터링 된 데이터들을 item 테이블과 idx 기준으로 join\n",
        "# 같은 날 같은 회원이 여러 번 같은 아이템 착용 가능하기 때문에 중복제거 없이 진행\n",
        "join2 = item.join(regdate1, [\"idx\"], \"inner\") \\\n",
        "            .join(member1, [\"idx\"], \"inner\") # 348\n",
        "\n",
        "# join -> idx, proc_ymd, codename이 동일한 데이터 중복 처리\n",
        "join2 = join2.drop_duplicates(subset= ['idx', 'proc_ymd', 'codename']) # 245\n",
        "\n",
        "top3_item = join2.groupBy('codename').count().orderBy(F.desc('count')).limit(3)\n",
        "top3_item.show()"
      ]
    },
    {
      "cell_type": "markdown",
      "source": [
        "5. 레벨이 151~160 에 있는 유저들 중 딱 한 명씩만 등록한 날짜들을 구해주세요 (10)\n"
      ],
      "metadata": {
        "id": "9bFw9LIFxFDA"
      }
    },
    {
      "cell_type": "code",
      "execution_count": null,
      "metadata": {
        "colab": {
          "base_uri": "https://localhost:8080/"
        },
        "id": "Bu4WBAB_aaM2",
        "outputId": "6e5eb3cf-0049-4189-ff27-df93276b5c25"
      },
      "outputs": [
        {
          "output_type": "stream",
          "name": "stdout",
          "text": [
            "+--------+----------+\n",
            "| regdate|user_count|\n",
            "+--------+----------+\n",
            "|20230327|         1|\n",
            "|20230505|         1|\n",
            "|20230321|         1|\n",
            "|20230129|         1|\n",
            "|20230205|         1|\n",
            "|20230428|         1|\n",
            "|20230325|         1|\n",
            "|20230330|         1|\n",
            "|20230420|         1|\n",
            "|20230320|         1|\n",
            "|20230226|         1|\n",
            "|20230411|         1|\n",
            "|20230310|         1|\n",
            "|20230316|         1|\n",
            "|20230211|         1|\n",
            "|20230410|         1|\n",
            "|20230311|         1|\n",
            "|20230331|         1|\n",
            "|20230305|         1|\n",
            "+--------+----------+\n",
            "\n"
          ]
        }
      ],
      "source": [
        "# 레벨 151 ~ 160 유저 item_lv 생성\n",
        "item_lv = item.filter(F.col('lv').between(151, 160))\n",
        "\n",
        "# regdate와 item_lv join\n",
        "# idx, lv, regdate 중복 제거\n",
        "date_lv = item_lv.join(regdate, [\"idx\"], \"inner\").drop_duplicates(['idx', 'lv', 'regdate'])\n",
        "\n",
        "# 등록일 기준 유저 count\n",
        "count_user_dates = date_lv.groupBy('regdate').agg(F.countDistinct('idx').alias('user_count')) # 113\n",
        "\n",
        "# 등록한 유저가 딱 한 명인 날짜들 선택\n",
        "one_user_dates = count_user_dates.filter(F.col('user_count') == 1)  # 19\n",
        "\n",
        "# 결과 출력\n",
        "one_user_dates.show()"
      ]
    },
    {
      "cell_type": "markdown",
      "source": [
        "6. item_his 테이블에서 레벨이 null인 유저가 가장 많은 날짜를 구해주세요 (8)"
      ],
      "metadata": {
        "id": "3S-lze_-xvOQ"
      }
    },
    {
      "cell_type": "code",
      "execution_count": null,
      "metadata": {
        "colab": {
          "base_uri": "https://localhost:8080/"
        },
        "id": "qP5FMFUYbv5n",
        "outputId": "595f21d9-c1d7-4071-9204-2e821a29c63e"
      },
      "outputs": [
        {
          "output_type": "execute_result",
          "data": {
            "text/plain": [
              "Row(proc_ymd='20230505', user_count=7)"
            ]
          },
          "metadata": {},
          "execution_count": 25
        }
      ],
      "source": [
        "# 레벨이 null인 행들 필터링\n",
        "# 'idx', 'proc_ymd' 중복 시 날짜 유저 구분 시 어렵기 때문에 제거\n",
        "item_lv_Nan = item.filter(F.col('lv').isNull()).drop_duplicates(['idx', 'proc_ymd']) # 126\n",
        "\n",
        "# 각 날짜별로 레벨이 null인 유저 수 계산\n",
        "date_counts = item_lv_Nan.groupBy('proc_ymd').agg(F.countDistinct('idx').alias('user_count'))\n",
        "\n",
        "# 가장 많은 유저가 있는 날짜 찾기\n",
        "max_lv_nan_user_date = date_counts.orderBy(F.desc('user_count')).first()\n",
        "\n",
        "# 결과 출력\n",
        "max_lv_nan_user_date"
      ]
    },
    {
      "cell_type": "markdown",
      "source": [
        "7. study_his 테이블의 pointnm 컬럼에 대해 공백을 모두 없애주세요 (8)"
      ],
      "metadata": {
        "id": "6vV6AUiZyg04"
      }
    },
    {
      "cell_type": "code",
      "execution_count": null,
      "metadata": {
        "id": "5zWxbZW0jqMQ",
        "colab": {
          "base_uri": "https://localhost:8080/"
        },
        "outputId": "b9cc69db-f1ef-494c-d91f-41dcdfb35c6d"
      },
      "outputs": [
        {
          "output_type": "stream",
          "name": "stdout",
          "text": [
            "+-----+-------+--------+----------+\n",
            "|  idx|proc_ym|proc_ymd|   pointnm|\n",
            "+-----+-------+--------+----------+\n",
            "|88311| 202306|20230628|한글스피치|\n",
            "| 8604| 202306|20230606| 중학3학년|\n",
            "| 8604| 202306|20230606| 중학3학년|\n",
            "| 8604| 202306|20230606| 중학3학년|\n",
            "| 8604| 202306|20230606| 중학3학년|\n",
            "| 8604| 202306|20230606| 중학3학년|\n",
            "| 8604| 202306|20230606| 중학3학년|\n",
            "| 8604| 202306|20230606| 중학3학년|\n",
            "| 8604| 202306|20230606| 중학3학년|\n",
            "| 8604| 202306|20230606| 중학3학년|\n",
            "| 8604| 202306|20230606| 중학3학년|\n",
            "| 8604| 202306|20230606| 중학3학년|\n",
            "| 8604| 202306|20230606| 중학3학년|\n",
            "| 8604| 202306|20230606| 중학3학년|\n",
            "|89542| 202305|20230509| 중학3학년|\n",
            "|23940| 202305|20230516| 중학1학년|\n",
            "|23940| 202305|20230516| 중학1학년|\n",
            "|40502| 202304|20230412| 중학1학년|\n",
            "| 1741| 202304|20230405| 중학1학년|\n",
            "|50161| 202304|20230428| 중학1학년|\n",
            "+-----+-------+--------+----------+\n",
            "only showing top 20 rows\n",
            "\n"
          ]
        }
      ],
      "source": [
        "# pointnm 에서 공백을 제거한 컬럼으로 대체한 새로운 테이블 생성\n",
        "study_na_blank = study.withColumn('pointnm', F.regexp_replace('pointnm', '\\s+', ''))\n",
        "\n",
        "# 결과 확인\n",
        "study_na_blank.show()"
      ]
    },
    {
      "cell_type": "markdown",
      "source": [
        "8. member 테이블의 grade 컬럼에서 숫자만 뽑아 grade라는 컬럼을 재구성해주세요. (초3학년 -> 3) (8)\n",
        "(UDF, slicing 사용 X)"
      ],
      "metadata": {
        "id": "BoSiYT4hyjwQ"
      }
    },
    {
      "cell_type": "code",
      "execution_count": null,
      "metadata": {
        "colab": {
          "base_uri": "https://localhost:8080/"
        },
        "id": "gI5vNfpYj3iI",
        "outputId": "55dbf653-e3d4-4d83-9651-b7af16a38077"
      },
      "outputs": [
        {
          "output_type": "stream",
          "name": "stdout",
          "text": [
            "+-----+---+--------+-------+---------+\n",
            "|  idx|sex|  status|  grade|grade_num|\n",
            "+-----+---+--------+-------+---------+\n",
            "| 6884| 여|유료회원|초3학년|        3|\n",
            "| 6331| 남|유료회원|초3학년|        3|\n",
            "|69294| 남|유료회원|초5학년|        5|\n",
            "|31531| 여|유료회원|초1학년|        1|\n",
            "|85784| 여|유료회원|초2학년|        2|\n",
            "|58058| 여|유료회원|초3학년|        3|\n",
            "|  777| 남|유료회원|초3학년|        3|\n",
            "| 5482| 여|유료회원|초2학년|        2|\n",
            "|63447| 남|유료회원|초2학년|        2|\n",
            "|54957| 남|유료회원|초4학년|        4|\n",
            "|55340| 남|유료회원|초2학년|        2|\n",
            "|72887| 여|유료회원|초3학년|        3|\n",
            "|40008| 여|유료회원|초3학년|        3|\n",
            "|57551| 남|유료회원|초5학년|        5|\n",
            "|58583| 여|유료회원|초3학년|        3|\n",
            "|32219| 남|유료회원|초1학년|        1|\n",
            "|13136| 여|유료회원|초4학년|        4|\n",
            "|22122| 남|유료회원|초6학년|        6|\n",
            "|18306| 남|유료회원|초4학년|        4|\n",
            "|28057| 남|유료회원|초3학년|        3|\n",
            "+-----+---+--------+-------+---------+\n",
            "only showing top 20 rows\n",
            "\n"
          ]
        }
      ],
      "source": [
        "# 'grade' 컬럼에서 숫자 추출하여 'grade' 컬럼 재구성\n",
        "member_grade = member.withColumn('grade_num', F.regexp_extract('grade', r'(\\d+)', 1))\n",
        "\n",
        "# 결과 확인\n",
        "member_grade.show()"
      ]
    },
    {
      "cell_type": "markdown",
      "source": [
        "9. study_his 월별로 pointnm 컬럼에 대한 point 발생 수(count)를 오름차순으로 순번 매겨주세요 (8)"
      ],
      "metadata": {
        "id": "F7slCWxmznch"
      }
    },
    {
      "cell_type": "code",
      "execution_count": null,
      "metadata": {
        "id": "_95S5nXtj3op",
        "colab": {
          "base_uri": "https://localhost:8080/"
        },
        "outputId": "18cccc78-e439-41e9-c174-c4e31b638d0a"
      },
      "outputs": [
        {
          "output_type": "stream",
          "name": "stdout",
          "text": [
            "+-------+-----------------+-----------+----+\n",
            "|proc_mm|          pointnm|point_count|rank|\n",
            "+-------+-----------------+-----------+----+\n",
            "|     05|   AI 구구단 게임|       2179|   1|\n",
            "|     06|   AI 구구단 게임|       2275|   2|\n",
            "|     04|   AI 구구단 게임|       2993|   3|\n",
            "|     05|          AI 국어|        360|   1|\n",
            "|     06|          AI 국어|        395|   2|\n",
            "|     04|          AI 국어|        487|   3|\n",
            "|     06|          AI 영어|        905|   1|\n",
            "|     05|          AI 영어|       1265|   2|\n",
            "|     04|          AI 영어|       1270|   3|\n",
            "|     04|     AI서술형평가|        880|   1|\n",
            "|     06|도전! AI 받아쓰기|        796|   1|\n",
            "|     05|도전! AI 받아쓰기|        847|   2|\n",
            "|     04|도전! AI 받아쓰기|       1120|   3|\n",
            "|     05| 밀크T 지오그래픽|        436|   1|\n",
            "|     06| 밀크T 지오그래픽|        520|   2|\n",
            "|     04| 밀크T 지오그래픽|        717|   3|\n",
            "|     04|         받아쓰기|          9|   1|\n",
            "|     06|         받아쓰기|         10|   2|\n",
            "|     06|        일기 쓰기|        645|   1|\n",
            "|     05|        일기 쓰기|        866|   2|\n",
            "+-------+-----------------+-----------+----+\n",
            "only showing top 20 rows\n",
            "\n"
          ]
        }
      ],
      "source": [
        "# proc_ym에서 년도를 제외하여 proc_mm 컬럼 생성한 point_mon, study_mon\n",
        "point_mon = point.withColumn('proc_mm',F.substring(F.col('proc_ym'), 5, 2))\n",
        "study_mon = study.withColumn('proc_mm',F.substring(F.col('proc_ym'), 5, 2))\n",
        "\n",
        "# 중복 제거를 위해 drop_duplicates 사용하여 중복 제거, 월별 point 발생 수에 초점을 맞춘 중복 제거\n",
        "point_mm = point_mon.join(study_mon, [\"idx\", \"proc_mm\"], \"inner\") \\\n",
        "                    .drop_duplicates(['idx','proc_mm', 'point', 'pointnm'])\n",
        "\n",
        "# point 발생 수 오름차순\n",
        "point_mm = point_mm.groupby(F.col('proc_mm'), F.col('pointnm')) \\\n",
        "                   .agg(F.count(\"point\").alias(\"point_count\"))\n",
        "\n",
        "# 순번 매기기\n",
        "# window 변수\n",
        "window_var = W.Window.partitionBy(F.col(\"pointnm\")).orderBy(F.col(\"point_count\").asc())\n",
        "point_mm_rank = point_mm.withColumn('rank', F.rank().over(window_var))\n",
        "\n",
        "# 결과 출력\n",
        "point_mm_rank.show()"
      ]
    },
    {
      "cell_type": "markdown",
      "source": [
        "10. pointnm 별로 획득한 point의 종류가 언더바(_)로 이어져서 보이도록 테이블을 만들어 주세요 (10)"
      ],
      "metadata": {
        "id": "H9xt5SxozsAx"
      }
    },
    {
      "cell_type": "code",
      "execution_count": null,
      "metadata": {
        "id": "nxs-83eNmZbC",
        "colab": {
          "base_uri": "https://localhost:8080/"
        },
        "outputId": "a922a7ef-c8c1-4cc5-b30a-cf451fe0728e"
      },
      "outputs": [
        {
          "output_type": "stream",
          "name": "stdout",
          "text": [
            "+-----------------+------------------------------------------------+\n",
            "|pointnm          |point_kind                                      |\n",
            "+-----------------+------------------------------------------------+\n",
            "|일기 쓰기        |1000_4000_2000_5000_3500_4500_500_1500_3000_2500|\n",
            "|학교 체험        |1000_4000_2000_5000_3500_4500_500_1500_3000_2500|\n",
            "|중학 특강        |4000_1000_3500_5000_2000_4500_500_1500_3000_2500|\n",
            "|AI 영어          |1000_4000_3500_2000_5000_4500_500_1500_3000_2500|\n",
            "|도전! AI 받아쓰기|1000_4000_5000_2000_3500_4500_500_1500_3000_2500|\n",
            "|학교 공부 맛보기 |1000_4000_3500_2000_5000_4500_500_1500_3000_2500|\n",
            "|중학 신입생      |1000_4000_2000_3500_5000_4500_500_1500_3000_2500|\n",
            "|AI 국어          |4000_1000_5000_3500_2000_4500_500_1500_3000_2500|\n",
            "|밀크T 지오그래픽 |4000_1000_3500_5000_2000_4500_500_1500_3000_2500|\n",
            "|중학 1학년       |1000_4000_3500_2000_5000_4500_500_1500_3000_2500|\n",
            "|한글 스피치      |1000_4000_5000_3500_2000_4500_500_1500_3000_2500|\n",
            "|받아쓰기         |1000_4000_2000_3500_5000_4500_500_1500_3000_2500|\n",
            "|중학 3학년       |1000_4000_5000_2000_3500_4500_500_1500_3000_2500|\n",
            "|중학 2학년       |4000_1000_5000_3500_2000_4500_500_1500_3000_2500|\n",
            "|AI 구구단 게임   |4000_1000_3500_5000_2000_4500_500_1500_3000_2500|\n",
            "|자기소개하기     |4000_1000_5000_3500_2000_4500_500_1500_3000_2500|\n",
            "|AI서술형평가     |4000_1000_3500_5000_2000_4500_500_1500_3000_2500|\n",
            "+-----------------+------------------------------------------------+\n",
            "\n"
          ]
        }
      ],
      "source": [
        "# idx를 활용하여 pointnm이 있는 study table과 point가 있는 point table join\n",
        "join4 = study.join(point, [\"idx\"], \"inner\")\n",
        "\n",
        "# pointnm 별로 획득한 point의 종류 _로 보이는 groupby 한 테이블 생성\n",
        "point_underbar = join4.groupBy(F.col('pointnm')) \\\n",
        "                      .agg(F.concat_ws('_', F.collect_set('point')).alias('point_kind'))\n",
        "\n",
        "# 결과 출력\n",
        "point_underbar.show(truncate=False)"
      ]
    },
    {
      "cell_type": "markdown",
      "source": [
        "11. point_his의 proc_ymd 컬럼의 날짜 표현 형식을 yyyy-mm-dd 형식이 되도록 바꿔주세요. (8)\n",
        "(UDF, slicing 사용 X)"
      ],
      "metadata": {
        "id": "H4JWxWCa0V6r"
      }
    },
    {
      "cell_type": "code",
      "execution_count": null,
      "metadata": {
        "id": "qgDOD9-4mZdh",
        "colab": {
          "base_uri": "https://localhost:8080/"
        },
        "outputId": "76d0ac18-0c31-4b45-b1f7-5be85d9a3802"
      },
      "outputs": [
        {
          "output_type": "stream",
          "name": "stdout",
          "text": [
            "+-----+-------+----------+-----+\n",
            "|  idx|proc_ym|  proc_ymd|point|\n",
            "+-----+-------+----------+-----+\n",
            "|96465| 202306|2023-06-24| 1000|\n",
            "|96465| 202306|2023-06-24|  500|\n",
            "|87940| 202304|2023-04-05| 2000|\n",
            "|87940| 202304|2023-04-05| 3500|\n",
            "|87940| 202304|2023-04-05| 4000|\n",
            "|87940| 202304|2023-04-05| 3000|\n",
            "|87940| 202304|2023-04-05| 2500|\n",
            "|88058| 202304|2023-04-05| 3000|\n",
            "|88058| 202304|2023-04-05| 1000|\n",
            "|88058| 202304|2023-04-05| 1500|\n",
            "|88058| 202304|2023-04-05| 2500|\n",
            "|88058| 202304|2023-04-05|  500|\n",
            "|88058| 202304|2023-04-05| 2000|\n",
            "|95844| 202306|2023-06-17| 1500|\n",
            "|95844| 202306|2023-06-17| 1000|\n",
            "|95050| 202306|2023-06-12| 3500|\n",
            "|95050| 202306|2023-06-12| 4000|\n",
            "|95050| 202306|2023-06-12| 4500|\n",
            "|92560| 202305|2023-05-11| 1000|\n",
            "|92560| 202305|2023-05-11|  500|\n",
            "+-----+-------+----------+-----+\n",
            "only showing top 20 rows\n",
            "\n"
          ]
        }
      ],
      "source": [
        "# proc_ymd을 자리수 별로 끊어서 '-' 삽입\n",
        "point_ymd_form = point.withColumn('proc_ymd', \\\n",
        "                        F.concat(F.substring(F.col('proc_ymd'), 1, 4), F.lit('-'), \\\n",
        "                                 F.substring(F.col('proc_ymd'), 5, 2), F.lit('-'), \\\n",
        "                                 F.substring(F.col('proc_ymd'), 7, 2)))\n",
        "\n",
        "# 결과 출력\n",
        "point_ymd_form.show()\n"
      ]
    },
    {
      "cell_type": "markdown",
      "source": [
        "12. member의 status 컬럼에서 '회원'단어가 있으면 띄어쓰기하고 없으면 띄어쓰기 후 회원 단어 추가해주세요"
      ],
      "metadata": {
        "id": "syV7Uaq30fkJ"
      }
    },
    {
      "cell_type": "code",
      "execution_count": null,
      "metadata": {
        "colab": {
          "base_uri": "https://localhost:8080/"
        },
        "id": "ZrQTSxzcmdVy",
        "outputId": "51cea996-e2bc-46cb-b5fb-ab87e7fd213d"
      },
      "outputs": [
        {
          "output_type": "stream",
          "name": "stdout",
          "text": [
            "+--------+-----+\n",
            "|  status|count|\n",
            "+--------+-----+\n",
            "|    신규|  261|\n",
            "|유료회원|97980|\n",
            "|학습만료|  383|\n",
            "|이관유료|   15|\n",
            "|  재구매|  357|\n",
            "|    복회|   17|\n",
            "|    취소|   10|\n",
            "|    이월|   57|\n",
            "+--------+-----+\n",
            "\n",
            "+-------------+-----+\n",
            "|       status|count|\n",
            "+-------------+-----+\n",
            "|    유료 회원|97980|\n",
            "|    이월 회원|   57|\n",
            "|    취소 회원|   10|\n",
            "|    신규 회원|  261|\n",
            "|  재구매 회원|  357|\n",
            "|학습만료 회원|  383|\n",
            "|이관유료 회원|   15|\n",
            "|    복회 회원|   17|\n",
            "+-------------+-----+\n",
            "\n"
          ]
        }
      ],
      "source": [
        "# member의 status 컬럼에서 '회원'단어가 있으면 띄어쓰기하고 없으면 띄어쓰기 후 회원 단어 추가해주세요\n",
        "member.groupBy(F.col(\"status\")).count().show()\n",
        "\n",
        "# \"회원\" 단어를 포함하는 경우는 그대로 사용하고, 그렇지 않은 경우에는 \" 회원\"을 추가하여 새로운 컬럼 생성\n",
        "member_inc = member.withColumn('status', F.when(F.col(\"status\").like(\"%회원\"), \\\n",
        "                                         F.concat(F.substring(F.col(\"status\"), 1, 2), F.lit(\" 회원\"))) \\\n",
        "                                          .otherwise(F.concat(F.col(\"status\"), F.lit(\" 회원\"))))\n",
        "\n",
        "# 결과 출력\n",
        "member_inc.groupBy(F.col(\"status\")).count().show()"
      ]
    },
    {
      "cell_type": "code",
      "execution_count": null,
      "metadata": {
        "id": "dDjByc53tHea"
      },
      "outputs": [],
      "source": []
    }
  ],
  "metadata": {
    "colab": {
      "provenance": [],
      "authorship_tag": "ABX9TyNgIZh7pm+aPUfc0c6oR31o",
      "include_colab_link": true
    },
    "kernelspec": {
      "display_name": "Python 3",
      "name": "python3"
    },
    "language_info": {
      "name": "python"
    }
  },
  "nbformat": 4,
  "nbformat_minor": 0
}